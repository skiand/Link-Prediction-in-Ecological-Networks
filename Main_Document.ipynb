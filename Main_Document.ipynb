{
  "cells": [
    {
      "cell_type": "markdown",
      "metadata": {
        "id": "sdPpxzesZM2g"
      },
      "source": [
        "# Link Prediction in Ecological Networks using Latent Space Representation of Network Graphs - Main Document"
      ]
    },
    {
      "cell_type": "markdown",
      "source": [
        "This Jupyter Notebook is the main file used to train a link prediction model pipeline. Various food webs from the GATEWAy dataset are used as individual datasets. This process and its results are analysed in the following sections.\n"
      ],
      "metadata": {
        "id": "q5wOP_wsr97p"
      }
    },
    {
      "cell_type": "markdown",
      "metadata": {
        "id": "ziavIDfws0gB"
      },
      "source": [
        "# Importing the necessarily libraries\n"
      ]
    },
    {
      "cell_type": "markdown",
      "source": [
        "In this section, the necessary libraries are imported or installed. Notably,  the following libraries and parts of their documentation were used for the making of this Jupyter Notebook: Pandas [1], Numpy [2], StellarGraph [3], DeepWalk (via KarateClub) [4], NetworkX [5], Matplotlib [6] and scikit-learn [7]."
      ],
      "metadata": {
        "id": "NdjJQwBp8r2a"
      }
    },
    {
      "cell_type": "code",
      "execution_count": 1,
      "metadata": {
        "nbsphinx": "hidden",
        "tags": [
          "CloudRunner"
        ],
        "id": "1VijoV4_ZM2k"
      },
      "outputs": [],
      "source": [
        "try:\n",
        "  import stellargraph as sg\n",
        "except:\n",
        "  %pip install -q stellargraph[demos]==1.2.1\n",
        "\n",
        "from stellargraph.data import EdgeSplitter\n",
        "from stellargraph import StellarGraph"
      ]
    },
    {
      "cell_type": "code",
      "source": [
        "try:\n",
        "    import karateclub\n",
        "except ModuleNotFoundError:\n",
        "    ! pip install karateclub\n",
        "from karateclub import DeepWalk"
      ],
      "metadata": {
        "id": "QauiKG5_1zkK"
      },
      "execution_count": 2,
      "outputs": []
    },
    {
      "cell_type": "code",
      "execution_count": 3,
      "metadata": {
        "id": "y23nswlwZM2l"
      },
      "outputs": [],
      "source": [
        "import networkx as nx\n",
        "import numpy as np\n",
        "import pandas as pd\n",
        "import matplotlib.pyplot as plt\n",
        "%matplotlib inline\n",
        "\n",
        "import requests, zipfile, io\n",
        "import os.path\n",
        "\n",
        "from sklearn.model_selection import train_test_split\n",
        "from sklearn.pipeline import Pipeline\n",
        "from sklearn.linear_model import LogisticRegressionCV\n",
        "from sklearn.metrics import roc_auc_score\n",
        "from sklearn.preprocessing import StandardScaler\n",
        "from sklearn.metrics import RocCurveDisplay"
      ]
    },
    {
      "cell_type": "markdown",
      "metadata": {
        "id": "mUc2t0BSZM2l"
      },
      "source": [
        "## Loading the data"
      ]
    },
    {
      "cell_type": "markdown",
      "source": [
        "The GATEWAy dataset [8] is automatically downloaded each time the notebook is run; there is no need to manually upload the dataset in Google Colab or similar platforms.\n",
        "\n",
        "As a result, a .zip file is downloaded and then its contents are extracted. Afterwards, the relevant .csv file is loaded into a Pandas data frame."
      ],
      "metadata": {
        "id": "jhzKg3exwSFd"
      }
    },
    {
      "cell_type": "code",
      "source": [
        "file_name='283_2_FoodWebDataBase_2018_12_10.csv'\n",
        "\n",
        "if not os.path.isfile(file_name):\n",
        "  zip_file_url=\"https://idata.idiv.de/ddm/Data/DownloadZip/283?version=756\"\n",
        "  r = requests.get(zip_file_url)\n",
        "  z = zipfile.ZipFile(io.BytesIO(r.content))\n",
        "  z.extractall()"
      ],
      "metadata": {
        "id": "ztzUi4FQuSob"
      },
      "execution_count": 4,
      "outputs": []
    },
    {
      "cell_type": "code",
      "source": [
        "df = pd.read_csv('283_2_FoodWebDataBase_2018_12_10.csv', low_memory=False)\n",
        "df.columns = df.columns.str.replace(\"[.]\", \"_\")"
      ],
      "metadata": {
        "id": "HGVMnV_4uTKx",
        "colab": {
          "base_uri": "https://localhost:8080/"
        },
        "outputId": "f5a4eebe-416a-412d-b0bc-47baf674d26a"
      },
      "execution_count": 5,
      "outputs": [
        {
          "output_type": "stream",
          "name": "stderr",
          "text": [
            "/usr/local/lib/python3.7/dist-packages/ipykernel_launcher.py:2: FutureWarning: The default value of regex will change from True to False in a future version.\n",
            "  \n"
          ]
        }
      ]
    },
    {
      "cell_type": "markdown",
      "source": [
        "## Defining the used functions"
      ],
      "metadata": {
        "id": "GXHeLn1Ks8ma"
      }
    },
    {
      "cell_type": "markdown",
      "source": [
        "In this section, we define the various functions used for the purpose of running the link prediction pipeline. The functions work as follows:\n",
        "\n",
        "`deepwalk_representations`: this function uses the DeepWalk algorithm to generate latent space respresentations of the graph's nodes\n",
        "\n",
        "`connect_samples_with_node_embeddings`: this function creates the feature representations of edges, by developing the learned feature representations of the individual nodes using binary operators.\n",
        "\n",
        "`train_model`: this function is used to call the classifier and feed it the samples and their labels.\n",
        "\n",
        "`get_classifier`: this function defines the classifier model, its hyperparameters before finally standardising the data.\n",
        "\n",
        "`model_evaluation`: this is a general function for evaluating the model, with its purpose being to call to call the connect_samples_with_node_embeddings and the get_score functions.\n",
        "\n",
        "`get_score`: this function returns the ROC AUC score of the examined food web for after the training and evaluation of the model is complete. During Validation Phase, it also draws the ROC curves for each web.\n",
        "\n",
        "`find_best_operator`: this function is used for the Binary Operator Selector and Training Phase to search for the best binary operator. It first trains the model on the Training Set and then evaluates the trained model on the Binary Operator Selector Set, for all four binary operators. This produces four different ROC AUC scores, one for each operator, and the binary operator with the highest score is selected for evaluation of the model in the Validation phase.\n",
        "\n",
        "`Average, Hadamard, Weighted_L1, Weighted_L2`: these functions return the binary product of the two pairs of vectors that are given as an input, each one using a different operation.\n"
      ],
      "metadata": {
        "id": "4T8jikKaxM_m"
      }
    },
    {
      "cell_type": "code",
      "source": [
        "def deepwalk_representations(graph):\n",
        "  modelDeep = DeepWalk(walk_length=number_of_walks, dimensions=number_of_dimensions, seed=0)\n",
        "  modelDeep.fit(graph.to_networkx())\n",
        "\n",
        "  def node_embeddings(vector):\n",
        "    return modelDeep.get_embedding()[vector]\n",
        "  return node_embeddings\n",
        "\n",
        "  \n",
        "def connect_samples_with_node_embeddings(link_samples, node_embeddings, binary_operator):\n",
        "    _z=[]\n",
        "    for source, destination in link_samples:\n",
        "      _z.append(binary_operator(node_embeddings(source), node_embeddings(destination)))\n",
        "    return _z\n",
        "\n",
        "\n",
        "def train_model(link_samples, link_labels, node_embeddings, binary_operator):\n",
        "    clf = get_classifier()\n",
        "    link_features = connect_samples_with_node_embeddings(link_samples, node_embeddings, binary_operator)\n",
        "    clf.fit(link_features, link_labels)\n",
        "    return clf\n",
        "\n",
        "\n",
        "def get_classifier(max_iter=2000):\n",
        "    lr_clf = LogisticRegressionCV(Cs=10, cv=number_of_folds, scoring=\"roc_auc\", max_iter=number_of_iterations)\n",
        "    return Pipeline(steps=[(\"sc\", StandardScaler()), (\"clf\", lr_clf)])\n",
        "\n",
        "\n",
        "\n",
        "def model_evaluation(clf, link_samples_test, link_labels_test, node_embeddings, binary_operator, validation_phase=False):\n",
        "    link_features_test = connect_samples_with_node_embeddings(link_samples_test, node_embeddings, binary_operator)\n",
        "    score = get_score(clf, link_features_test, link_labels_test, validation_phase)\n",
        "    return score\n",
        "\n",
        "\n",
        "def get_score(clf, link_features, link_labels, validation_phase=False):\n",
        "    predicted = clf.predict_proba(link_features)\n",
        "    positives = list(clf.classes_).index(1)\n",
        "    \n",
        "    if validation_phase==True:\n",
        "      display = RocCurveDisplay.from_predictions(link_labels, predicted[:, positives], name='LogisticRegressionCV')\n",
        "      _ = display.ax_.set_title(name)\n",
        "      _ = display.ax_.set_xlabel('1 - Specificity')\n",
        "      _ = display.ax_.set_ylabel('Sensitivity')\n",
        "      \n",
        "    return roc_auc_score(link_labels, predicted[:, positives])\n",
        "\n",
        "\n",
        "\n",
        "def Average(a, b):\n",
        "    return (a+b)/2.0\n",
        "\n",
        "def Hadamard(a, b):\n",
        "    return a*b\n",
        "\n",
        "def Weighted_L1(a, b):\n",
        "    return np.abs(a-b)\n",
        "\n",
        "def Weighted_L2(a, b):\n",
        "    return (a-b)**2\n",
        "\n",
        "binary_operators = [Average, Hadamard, Weighted_L1, Weighted_L2]\n",
        "\n",
        "def find_best_operator(binary_operator):\n",
        "    clf = train_model(samples_train, labels_train, embedding_train, binary_operator)\n",
        "    score = model_evaluation(clf, samples_model_selection, labels_model_selection, embedding_train, binary_operator)\n",
        "    return {\"classifier\": clf,\"binary_operator\": binary_operator,\"score\": score}"
      ],
      "metadata": {
        "id": "F5TnbUCtIxx2"
      },
      "execution_count": 6,
      "outputs": []
    },
    {
      "cell_type": "markdown",
      "source": [
        "## Model pipeline implementation"
      ],
      "metadata": {
        "id": "9FdrI4DXtC0R"
      }
    },
    {
      "cell_type": "markdown",
      "source": [
        "This part serves as the main part of the link prediction pipeline. First, the dataframe is sliced so that only one chosen food web is selected, forming a new, individual dataset. A total of seven food webs are chosen: Weddell Sea, Chesapeake Bay, Lough Hyne, Carpinteria, FloridaIslandE3, FloridaIslandE1 and Caribbean Reef.\n",
        "\n",
        "Each individual dataset is then loaded into NetworkX as directed graph, with the columns `con_taxonomy` and `res_taxonomy` representing the pairs of nodes. The resulting NetworkX object then has its nodes converted to integers and is then loaded into the StellarGraph library as a directed multigraph.\n",
        "\n",
        "The data is then separated into three different sets: the Training Set (used for training the model), the Binary Operator Test Set (used for selecting the optimal binary operator) and the Testing Set (used for evaluating the trained model). These sets are then employed to train and test the link prediction model. For more information on this procedure, refer to the Methodology section of the Dissertation-Research Paper."
      ],
      "metadata": {
        "id": "xKT7eWySWbbB"
      }
    },
    {
      "cell_type": "code",
      "source": [
        "list_of_webs=[\"Weddell Sea\", \"Chesapeake Bay\", \"Lough Hyne\",\n",
        "              \"Carpinteria\", \"FloridaIslandE3\", \"FloridaIslandE1\", \"Caribbean Reef\"]\n",
        "\n",
        "#Uncomment the line below to only test one web\n",
        "#list_of_webs=[\"Lough Hyne\"]\n",
        "\n",
        "number_of_folds=10\n",
        "number_of_iterations=2000\n",
        "number_of_walks=10\n",
        "number_of_dimensions=16"
      ],
      "metadata": {
        "id": "X_GJ7XaXueGR"
      },
      "execution_count": 7,
      "outputs": []
    },
    {
      "cell_type": "code",
      "source": [
        "list_location=[]\n",
        "list_score=[]\n",
        "list_operator=[]\n",
        "\n",
        "\n",
        "for name in list_of_webs:\n",
        "  try:\n",
        "    df_individual_web=df.loc[df.foodweb_name==name]\n",
        "\n",
        "    G = nx.from_pandas_edgelist(df_individual_web, \"con_taxonomy\", \"res_taxonomy\")\n",
        "    G = nx.DiGraph(G)\n",
        "    G = nx.convert_node_labels_to_integers(G, first_label=0, ordering='default')\n",
        "    G = StellarGraph.from_networkx(G)\n",
        "\n",
        "    edge_splitter_test = EdgeSplitter(G)\n",
        "    graph_test, samples_test, labels_test = edge_splitter_test.train_test_split(p=0.1, method=\"global\")\n",
        "\n",
        "\n",
        "\n",
        "    edge_splitter_train = EdgeSplitter(graph_test, G)\n",
        "    graph_train, samples, labels = edge_splitter_train.train_test_split(p=0.1, method=\"global\")\n",
        "    (samples_train,samples_model_selection,labels_train,labels_model_selection) = train_test_split(samples, labels, train_size=0.75, test_size=0.25)\n",
        "\n",
        "\n",
        "      \n",
        "    embedding_train = deepwalk_representations(graph_train)\n",
        "\n",
        "\n",
        "\n",
        "    operator_products=[]\n",
        "    for binary_operator in binary_operators:\n",
        "      operator_products.append(find_best_operator(binary_operator))\n",
        "\n",
        "    optimal_operator = max(operator_products, key=lambda product: product[\"score\"])\n",
        "\n",
        "    embedding_test = deepwalk_representations(graph_test)\n",
        "    test_score = model_evaluation(optimal_operator[\"classifier\"],samples_test,labels_test,embedding_test,optimal_operator[\"binary_operator\"], validation_phase=True)\n",
        "    \n",
        "\n",
        "\n",
        "  except:\n",
        "    print(name, ' had an error')\n",
        "    pass\n",
        "\n",
        "  list_location.append(name)\n",
        "  list_score.append(test_score)\n",
        "  list_operator.append(str(optimal_operator[\"binary_operator\"].__name__))\n"
      ],
      "metadata": {
        "id": "-k85W9LEs4By",
        "colab": {
          "base_uri": "https://localhost:8080/",
          "height": 1000
        },
        "outputId": "2408bdc3-5327-4aae-c3be-9e9d5c0cdc78"
      },
      "execution_count": 8,
      "outputs": [
        {
          "output_type": "stream",
          "name": "stdout",
          "text": [
            "** Sampled 3124 positive and 3124 negative edges. **\n",
            "** Sampled 2811 positive and 2811 negative edges. **\n",
            "** Sampled 2822 positive and 2822 negative edges. **\n",
            "** Sampled 2540 positive and 2540 negative edges. **\n",
            "** Sampled 1006 positive and 1006 negative edges. **\n",
            "** Sampled 905 positive and 905 negative edges. **\n",
            "** Sampled 589 positive and 589 negative edges. **\n",
            "** Sampled 530 positive and 530 negative edges. **\n",
            "** Sampled 721 positive and 721 negative edges. **\n",
            "** Sampled 649 positive and 649 negative edges. **\n",
            "** Sampled 701 positive and 701 negative edges. **\n",
            "** Sampled 631 positive and 631 negative edges. **\n",
            "** Sampled 659 positive and 659 negative edges. **\n",
            "** Sampled 593 positive and 593 negative edges. **\n"
          ]
        },
        {
          "output_type": "display_data",
          "data": {
            "text/plain": [
              "<Figure size 432x288 with 1 Axes>"
            ],
            "image/png": "[encoded data removed]"
          },
          "metadata": {
            "needs_background": "light"
          }
        },
        {
          "output_type": "display_data",
          "data": {
            "text/plain": [
              "<Figure size 432x288 with 1 Axes>"
            ],
            "image/png": "[encoded data removed]"
          },
          "metadata": {
            "needs_background": "light"
          }
        },
        {
          "output_type": "display_data",
          "data": {
            "text/plain": [
              "<Figure size 432x288 with 1 Axes>"
            ],
            "image/png": "[encoded data removed]"
          },
          "metadata": {
            "needs_background": "light"
          }
        },
        {
          "output_type": "display_data",
          "data": {
            "text/plain": [
              "<Figure size 432x288 with 1 Axes>"
            ],
            "image/png": "[encoded data removed]"
          },
          "metadata": {
            "needs_background": "light"
          }
        },
        {
          "output_type": "display_data",
          "data": {
            "text/plain": [
              "<Figure size 432x288 with 1 Axes>"
            ],
            "image/png": "[encoded data removed]"
          },
          "metadata": {
            "needs_background": "light"
          }
        },
        {
          "output_type": "display_data",
          "data": {
            "text/plain": [
              "<Figure size 432x288 with 1 Axes>"
            ],
            "image/png": "[encoded data removed]"
          },
          "metadata": {
            "needs_background": "light"
          }
        },
        {
          "output_type": "display_data",
          "data": {
            "text/plain": [
              "<Figure size 432x288 with 1 Axes>"
            ],
            "image/png": "[encoded data removed]"
          },
          "metadata": {
            "needs_background": "light"
          }
        }
      ]
    },
    {
      "cell_type": "markdown",
      "source": [
        "## Results reporting and recording"
      ],
      "metadata": {
        "id": "pMNkt1kQtPa6"
      }
    },
    {
      "cell_type": "markdown",
      "source": [
        "The results of the tests of the link prediction model are displayed here in the form of Pandas data frame. The results are also recorded in a .csv file."
      ],
      "metadata": {
        "id": "4QdYjK2HXGhm"
      }
    },
    {
      "cell_type": "code",
      "source": [
        "df_results=pd.DataFrame(list(zip(list_location,list_score,list_operator)), columns=['Locale','ROC AUC score','Binary operator used'])\n",
        "df_results"
      ],
      "metadata": {
        "id": "MoP-EuATyiQ0",
        "colab": {
          "base_uri": "https://localhost:8080/",
          "height": 269
        },
        "outputId": "19041c11-ae07-422e-9965-c7b8d60e267c"
      },
      "execution_count": 9,
      "outputs": [
        {
          "output_type": "execute_result",
          "data": {
            "text/plain": [
              "            Locale  ROC AUC score Binary operator used\n",
              "0      Weddell Sea       0.832760             Hadamard\n",
              "1   Chesapeake Bay       0.607117             Hadamard\n",
              "2       Lough Hyne       0.770068             Hadamard\n",
              "3      Carpinteria       0.648395             Hadamard\n",
              "4  FloridaIslandE3       0.647238             Hadamard\n",
              "5  FloridaIslandE1       0.596118              Average\n",
              "6   Caribbean Reef       0.593427              Average"
            ],
            "text/html": [
              "\n",
              "  <div id=\"df-437196f4-b7ff-4f0b-a015-c7bda65475fb\">\n",
              "    <div class=\"colab-df-container\">\n",
              "      <div>\n",
              "<style scoped>\n",
              "    .dataframe tbody tr th:only-of-type {\n",
              "        vertical-align: middle;\n",
              "    }\n",
              "\n",
              "    .dataframe tbody tr th {\n",
              "        vertical-align: top;\n",
              "    }\n",
              "\n",
              "    .dataframe thead th {\n",
              "        text-align: right;\n",
              "    }\n",
              "</style>\n",
              "<table border=\"1\" class=\"dataframe\">\n",
              "  <thead>\n",
              "    <tr style=\"text-align: right;\">\n",
              "      <th></th>\n",
              "      <th>Locale</th>\n",
              "      <th>ROC AUC score</th>\n",
              "      <th>Binary operator used</th>\n",
              "    </tr>\n",
              "  </thead>\n",
              "  <tbody>\n",
              "    <tr>\n",
              "      <th>0</th>\n",
              "      <td>Weddell Sea</td>\n",
              "      <td>0.832760</td>\n",
              "      <td>Hadamard</td>\n",
              "    </tr>\n",
              "    <tr>\n",
              "      <th>1</th>\n",
              "      <td>Chesapeake Bay</td>\n",
              "      <td>0.607117</td>\n",
              "      <td>Hadamard</td>\n",
              "    </tr>\n",
              "    <tr>\n",
              "      <th>2</th>\n",
              "      <td>Lough Hyne</td>\n",
              "      <td>0.770068</td>\n",
              "      <td>Hadamard</td>\n",
              "    </tr>\n",
              "    <tr>\n",
              "      <th>3</th>\n",
              "      <td>Carpinteria</td>\n",
              "      <td>0.648395</td>\n",
              "      <td>Hadamard</td>\n",
              "    </tr>\n",
              "    <tr>\n",
              "      <th>4</th>\n",
              "      <td>FloridaIslandE3</td>\n",
              "      <td>0.647238</td>\n",
              "      <td>Hadamard</td>\n",
              "    </tr>\n",
              "    <tr>\n",
              "      <th>5</th>\n",
              "      <td>FloridaIslandE1</td>\n",
              "      <td>0.596118</td>\n",
              "      <td>Average</td>\n",
              "    </tr>\n",
              "    <tr>\n",
              "      <th>6</th>\n",
              "      <td>Caribbean Reef</td>\n",
              "      <td>0.593427</td>\n",
              "      <td>Average</td>\n",
              "    </tr>\n",
              "  </tbody>\n",
              "</table>\n",
              "</div>\n",
              "      <button class=\"colab-df-convert\" onclick=\"convertToInteractive('df-437196f4-b7ff-4f0b-a015-c7bda65475fb')\"\n",
              "              title=\"Convert this dataframe to an interactive table.\"\n",
              "              style=\"display:none;\">\n",
              "        \n",
              "  <svg xmlns=\"http://www.w3.org/2000/svg\" height=\"24px\"viewBox=\"0 0 24 24\"\n",
              "       width=\"24px\">\n",
              "    <path d=\"M0 0h24v24H0V0z\" fill=\"none\"/>\n",
              "    <path d=\"M18.56 5.44l.94 2.06.94-2.06 2.06-.94-2.06-.94-.94-2.06-.94 2.06-2.06.94zm-11 1L8.5 8.5l.94-2.06 2.06-.94-2.06-.94L8.5 2.5l-.94 2.06-2.06.94zm10 10l.94 2.06.94-2.06 2.06-.94-2.06-.94-.94-2.06-.94 2.06-2.06.94z\"/><path d=\"M17.41 7.96l-1.37-1.37c-.4-.4-.92-.59-1.43-.59-.52 0-1.04.2-1.43.59L10.3 9.45l-7.72 7.72c-.78.78-.78 2.05 0 2.83L4 21.41c.39.39.9.59 1.41.59.51 0 1.02-.2 1.41-.59l7.78-7.78 2.81-2.81c.8-.78.8-2.07 0-2.86zM5.41 20L4 18.59l7.72-7.72 1.47 1.35L5.41 20z\"/>\n",
              "  </svg>\n",
              "      </button>\n",
              "      \n",
              "  <style>\n",
              "    .colab-df-container {\n",
              "      display:flex;\n",
              "      flex-wrap:wrap;\n",
              "      gap: 12px;\n",
              "    }\n",
              "\n",
              "    .colab-df-convert {\n",
              "      background-color: #E8F0FE;\n",
              "      border: none;\n",
              "      border-radius: 50%;\n",
              "      cursor: pointer;\n",
              "      display: none;\n",
              "      fill: #1967D2;\n",
              "      height: 32px;\n",
              "      padding: 0 0 0 0;\n",
              "      width: 32px;\n",
              "    }\n",
              "\n",
              "    .colab-df-convert:hover {\n",
              "      background-color: #E2EBFA;\n",
              "      box-shadow: 0px 1px 2px rgba(60, 64, 67, 0.3), 0px 1px 3px 1px rgba(60, 64, 67, 0.15);\n",
              "      fill: #174EA6;\n",
              "    }\n",
              "\n",
              "    [theme=dark] .colab-df-convert {\n",
              "      background-color: #3B4455;\n",
              "      fill: #D2E3FC;\n",
              "    }\n",
              "\n",
              "    [theme=dark] .colab-df-convert:hover {\n",
              "      background-color: #434B5C;\n",
              "      box-shadow: 0px 1px 3px 1px rgba(0, 0, 0, 0.15);\n",
              "      filter: drop-shadow(0px 1px 2px rgba(0, 0, 0, 0.3));\n",
              "      fill: #FFFFFF;\n",
              "    }\n",
              "  </style>\n",
              "\n",
              "      <script>\n",
              "        const buttonEl =\n",
              "          document.querySelector('#df-437196f4-b7ff-4f0b-a015-c7bda65475fb button.colab-df-convert');\n",
              "        buttonEl.style.display =\n",
              "          google.colab.kernel.accessAllowed ? 'block' : 'none';\n",
              "\n",
              "        async function convertToInteractive(key) {\n",
              "          const element = document.querySelector('#df-437196f4-b7ff-4f0b-a015-c7bda65475fb');\n",
              "          const dataTable =\n",
              "            await google.colab.kernel.invokeFunction('convertToInteractive',\n",
              "                                                     [key], {});\n",
              "          if (!dataTable) return;\n",
              "\n",
              "          const docLinkHtml = 'Like what you see? Visit the ' +\n",
              "            '<a target=\"_blank\" href=https://colab.research.google.com/notebooks/data_table.ipynb>data table notebook</a>'\n",
              "            + ' to learn more about interactive tables.';\n",
              "          element.innerHTML = '';\n",
              "          dataTable['output_type'] = 'display_data';\n",
              "          await google.colab.output.renderOutput(dataTable, element);\n",
              "          const docLink = document.createElement('div');\n",
              "          docLink.innerHTML = docLinkHtml;\n",
              "          element.appendChild(docLink);\n",
              "        }\n",
              "      </script>\n",
              "    </div>\n",
              "  </div>\n",
              "  "
            ]
          },
          "metadata": {},
          "execution_count": 9
        }
      ]
    },
    {
      "cell_type": "code",
      "source": [
        "df_results.to_csv('results.csv', index=False)"
      ],
      "metadata": {
        "id": "BXGEmG3PkFCF"
      },
      "execution_count": 10,
      "outputs": []
    },
    {
      "cell_type": "markdown",
      "source": [
        "# References\n"
      ],
      "metadata": {
        "id": "KxP0PODiCmwk"
      }
    },
    {
      "cell_type": "markdown",
      "source": [
        "[1] McKinney, W., 2022. Pandas documentation. pandas documentation - pandas 1.4.3 documentation. Available at: https://pandas.pydata.org/docs/ [Accessed August 12, 2022]. \n",
        "\n",
        "[2] Oliphant, T., 2022. NumPy documentation. NumPy documentation - NumPy v1.23 Manual. Available at: https://numpy.org/doc/stable/ [Accessed August 12, 2022]. \n",
        "\n",
        "[3] Data61, 2022. Stellargraph documentation. Welcome to StellarGraph's documentation! - StellarGraph 1.2.1 documentation. Available at: https://stellargraph.readthedocs.io/en/stable/ [Accessed August 12, 2022].\n",
        "\n",
        "[4] Rozemberczki, B., 2022. Karate Club documentation. Karate Club Documentation - karateclub documentation. Available at: https://karateclub.readthedocs.io/en/latest/ [Accessed August 12, 2022]. \n",
        "\n",
        "[5] Hagberg, A., Swart, P. &amp; Schult, D., 2014. NetworkX documentation. NetworkX documentation - NetworkX 1.9 documentation. Available at: https://networkx.org/documentation/networkx-1.9/ [Accessed August 12, 2022]. \n",
        "\n",
        "[6] Hunter, J.D., 2022. Matplotlib 3.5.3 documentation. Matplotlib documentation - Matplotlib 3.5.3 documentation. Available at: https://matplotlib.org/stable/index.html [Accessed August 12, 2022]. \n",
        "\n",
        "[7] Cournapeau, D., 2022. scikit-learn Machine Learning in Python. scikit. Available at: https://scikit-learn.org/stable/ [Accessed August 12, 2022]. \n",
        "\n",
        "[8] Brose, U. et al., 2019. Predator traits determine food-web architecture across ecosystems. Nature Ecology &amp; Evolution, 3(6), pp.919–927. "
      ],
      "metadata": {
        "id": "vg0Mlrt7IJcQ"
      }
    },
    {
      "cell_type": "code",
      "source": [
        ""
      ],
      "metadata": {
        "id": "iP2cAkiI6ZZQ"
      },
      "execution_count": 10,
      "outputs": []
    }
  ],
  "metadata": {
    "file_extension": ".py",
    "kernelspec": {
      "display_name": "Python 3",
      "language": "python",
      "name": "python3"
    },
    "language_info": {
      "codemirror_mode": {
        "name": "ipython",
        "version": 3
      },
      "file_extension": ".py",
      "mimetype": "text/x-python",
      "name": "python",
      "nbconvert_exporter": "python",
      "pygments_lexer": "ipython3",
      "version": "3.6.9"
    },
    "mimetype": "text/x-python",
    "name": "python",
    "npconvert_exporter": "python",
    "pygments_lexer": "ipython3",
    "version": 3,
    "colab": {
      "name": "Main_Document.ipynb",
      "provenance": [],
      "collapsed_sections": []
    }
  },
  "nbformat": 4,
  "nbformat_minor": 0
}
